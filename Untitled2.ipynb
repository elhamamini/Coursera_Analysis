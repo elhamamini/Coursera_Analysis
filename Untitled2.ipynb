{
 "cells": [
  {
   "cell_type": "code",
   "execution_count": 18,
   "id": "7b75011c",
   "metadata": {},
   "outputs": [],
   "source": [
    "import pandas as pd\n",
    "import json\n",
    "import numpy\n"
   ]
  },
  {
   "cell_type": "code",
   "execution_count": 21,
   "id": "990f45d9",
   "metadata": {},
   "outputs": [
    {
     "name": "stdout",
     "output_type": "stream",
     "text": [
      "{'{key: pageview': 'value: {}|username: a246e228965378af68fb880ff0c7d27770e4e776|timestamp: 1368217913671|page_url: https://class.coursera.org/psy-001/quiz/start?quiz_id=151|client: spark|session: 3719122221-1368210759589|language: es-es|from: https://class.coursera.org/psy-001/quiz/index|user_ip: 201.143.189.105|user_agent: Mozilla/5.0 (iPad; CPU OS 6_1 like Mac OS X) AppleWebKit/536.26 (KHTML, like Gecko) Version/6.0 Mobile/10B141 Safari/8536.25}', '{key: user.video.lecture.action': 'value: {\\\\currentTime\\\\:0,\\\\playbackRate\\\\:1,\\\\paused\\\\:false,\\\\error\\\\:null,\\\\networkState\\\\:2,\\\\readyState\\\\:4,\\\\eventTimestamp\\\\:1368217913239,\\\\initTimestamp\\\\:1368217904871,\\\\type\\\\:\\\\play\\\\,\\\\prevTime\\\\:0}|username: c16a6fe0421893b83ff0924ff356d0db1027609f|timestamp: 1368217913569|page_url: https://class.coursera.org/psy-001/lecture/view?lecture_id=71|client: spark|session: 1825227370-1368217101956|language: en-US,en;q=0.8|from: https://class.coursera.org/psy-001/lecture/view?lecture_id=71|user_ip: 98.253.201.233|user_agent: Mozilla/5.0 (Linux; Android 4.0.4; BNTV600 Build/IMM76L) AppleWebKit/537.31 (KHTML, like Gecko) Chrome/26.0.1410.58 Safari/537.31}'}\n"
     ]
    }
   ],
   "source": [
    "with open(\"test1.json\") as fh:\n",
    "    data=json.load(fh)\n",
    "    print(data)"
   ]
  },
  {
   "cell_type": "code",
   "execution_count": 29,
   "id": "81b7cc2c",
   "metadata": {},
   "outputs": [
    {
     "name": "stdout",
     "output_type": "stream",
     "text": [
      "{key: pageview                     value: {}|username: a246e228965378af68fb880ff0...\n",
      "{key: user.video.lecture.action    value: {\\currentTime\\:0,\\playbackRate\\:1,\\paus...\n",
      "dtype: object\n"
     ]
    }
   ],
   "source": [
    "df=pandas.read_json(\"test1.json\", typ=\"series\")\n",
    "print(df)"
   ]
  },
  {
   "cell_type": "code",
   "execution_count": 22,
   "id": "a64de2d2",
   "metadata": {},
   "outputs": [],
   "source": [
    "list1=[]\n",
    "with open(\"psy-001_clickstream_export_snippet.txt\") as fh:\n",
    "    \n",
    "     for line in fh:\n",
    "        dict1={}\n",
    "#         print(line)\n",
    "        # reads each line and trims of extra the spaces \n",
    "        # and gives only the valid words\n",
    "        command, description = line.strip().split(\"|\",1)\n",
    "        \n",
    "        val=command.split(':')\n",
    "        \n",
    "        dict1[\"key\"]=val[1]\n",
    "        new_value=description.split(\"|\")\n",
    "\n",
    "        for i in new_value:\n",
    "            \n",
    "            new_value2=i.split(':',1)\n",
    "\n",
    "            dict1[new_value2[0]]=new_value2[1]\n",
    "\n",
    "            list1.append(dict1)\n",
    "       \n",
    "          \n",
    "\n",
    "# creating json file\n",
    "# the JSON file is named as test1\n",
    "\n",
    "# out_file = open(\"new_file.json\", \"w\")\n",
    "json.dump(list1, out_file, indent = 4, sort_keys = False)\n",
    "# out_file.close()\n"
   ]
  },
  {
   "cell_type": "code",
   "execution_count": 26,
   "id": "77ca5f08",
   "metadata": {},
   "outputs": [
    {
     "ename": "JSONDecodeError",
     "evalue": "Extra data: line 30942 column 2 (char 1813652)",
     "output_type": "error",
     "traceback": [
      "\u001b[0;31m---------------------------------------------------------------------------\u001b[0m",
      "\u001b[0;31mJSONDecodeError\u001b[0m                           Traceback (most recent call last)",
      "\u001b[0;32m/var/folders/bm/200f7gzx2xsb4zds748rw_k40000gn/T/ipykernel_27235/2051623914.py\u001b[0m in \u001b[0;36m<module>\u001b[0;34m\u001b[0m\n\u001b[1;32m      1\u001b[0m \u001b[0;32mwith\u001b[0m \u001b[0mopen\u001b[0m\u001b[0;34m(\u001b[0m\u001b[0;34m\"new_file.json\"\u001b[0m\u001b[0;34m)\u001b[0m \u001b[0;32mas\u001b[0m \u001b[0mfh\u001b[0m\u001b[0;34m:\u001b[0m\u001b[0;34m\u001b[0m\u001b[0;34m\u001b[0m\u001b[0m\n\u001b[0;32m----> 2\u001b[0;31m     \u001b[0mdata\u001b[0m\u001b[0;34m=\u001b[0m\u001b[0mjson\u001b[0m\u001b[0;34m.\u001b[0m\u001b[0mload\u001b[0m\u001b[0;34m(\u001b[0m\u001b[0mfh\u001b[0m\u001b[0;34m)\u001b[0m\u001b[0;34m\u001b[0m\u001b[0;34m\u001b[0m\u001b[0m\n\u001b[0m\u001b[1;32m      3\u001b[0m     \u001b[0mprint\u001b[0m\u001b[0;34m(\u001b[0m\u001b[0mdata\u001b[0m\u001b[0;34m)\u001b[0m\u001b[0;34m\u001b[0m\u001b[0;34m\u001b[0m\u001b[0m\n",
      "\u001b[0;32m~/opt/anaconda3/lib/python3.8/json/__init__.py\u001b[0m in \u001b[0;36mload\u001b[0;34m(fp, cls, object_hook, parse_float, parse_int, parse_constant, object_pairs_hook, **kw)\u001b[0m\n\u001b[1;32m    291\u001b[0m     \u001b[0mkwarg\u001b[0m\u001b[0;34m;\u001b[0m \u001b[0motherwise\u001b[0m\u001b[0;31m \u001b[0m\u001b[0;31m`\u001b[0m\u001b[0;31m`\u001b[0m\u001b[0mJSONDecoder\u001b[0m\u001b[0;31m`\u001b[0m\u001b[0;31m`\u001b[0m \u001b[0;32mis\u001b[0m \u001b[0mused\u001b[0m\u001b[0;34m.\u001b[0m\u001b[0;34m\u001b[0m\u001b[0;34m\u001b[0m\u001b[0m\n\u001b[1;32m    292\u001b[0m     \"\"\"\n\u001b[0;32m--> 293\u001b[0;31m     return loads(fp.read(),\n\u001b[0m\u001b[1;32m    294\u001b[0m         \u001b[0mcls\u001b[0m\u001b[0;34m=\u001b[0m\u001b[0mcls\u001b[0m\u001b[0;34m,\u001b[0m \u001b[0mobject_hook\u001b[0m\u001b[0;34m=\u001b[0m\u001b[0mobject_hook\u001b[0m\u001b[0;34m,\u001b[0m\u001b[0;34m\u001b[0m\u001b[0;34m\u001b[0m\u001b[0m\n\u001b[1;32m    295\u001b[0m         \u001b[0mparse_float\u001b[0m\u001b[0;34m=\u001b[0m\u001b[0mparse_float\u001b[0m\u001b[0;34m,\u001b[0m \u001b[0mparse_int\u001b[0m\u001b[0;34m=\u001b[0m\u001b[0mparse_int\u001b[0m\u001b[0;34m,\u001b[0m\u001b[0;34m\u001b[0m\u001b[0;34m\u001b[0m\u001b[0m\n",
      "\u001b[0;32m~/opt/anaconda3/lib/python3.8/json/__init__.py\u001b[0m in \u001b[0;36mloads\u001b[0;34m(s, cls, object_hook, parse_float, parse_int, parse_constant, object_pairs_hook, **kw)\u001b[0m\n\u001b[1;32m    355\u001b[0m             \u001b[0mparse_int\u001b[0m \u001b[0;32mis\u001b[0m \u001b[0;32mNone\u001b[0m \u001b[0;32mand\u001b[0m \u001b[0mparse_float\u001b[0m \u001b[0;32mis\u001b[0m \u001b[0;32mNone\u001b[0m \u001b[0;32mand\u001b[0m\u001b[0;34m\u001b[0m\u001b[0;34m\u001b[0m\u001b[0m\n\u001b[1;32m    356\u001b[0m             parse_constant is None and object_pairs_hook is None and not kw):\n\u001b[0;32m--> 357\u001b[0;31m         \u001b[0;32mreturn\u001b[0m \u001b[0m_default_decoder\u001b[0m\u001b[0;34m.\u001b[0m\u001b[0mdecode\u001b[0m\u001b[0;34m(\u001b[0m\u001b[0ms\u001b[0m\u001b[0;34m)\u001b[0m\u001b[0;34m\u001b[0m\u001b[0;34m\u001b[0m\u001b[0m\n\u001b[0m\u001b[1;32m    358\u001b[0m     \u001b[0;32mif\u001b[0m \u001b[0mcls\u001b[0m \u001b[0;32mis\u001b[0m \u001b[0;32mNone\u001b[0m\u001b[0;34m:\u001b[0m\u001b[0;34m\u001b[0m\u001b[0;34m\u001b[0m\u001b[0m\n\u001b[1;32m    359\u001b[0m         \u001b[0mcls\u001b[0m \u001b[0;34m=\u001b[0m \u001b[0mJSONDecoder\u001b[0m\u001b[0;34m\u001b[0m\u001b[0;34m\u001b[0m\u001b[0m\n",
      "\u001b[0;32m~/opt/anaconda3/lib/python3.8/json/decoder.py\u001b[0m in \u001b[0;36mdecode\u001b[0;34m(self, s, _w)\u001b[0m\n\u001b[1;32m    338\u001b[0m         \u001b[0mend\u001b[0m \u001b[0;34m=\u001b[0m \u001b[0m_w\u001b[0m\u001b[0;34m(\u001b[0m\u001b[0ms\u001b[0m\u001b[0;34m,\u001b[0m \u001b[0mend\u001b[0m\u001b[0;34m)\u001b[0m\u001b[0;34m.\u001b[0m\u001b[0mend\u001b[0m\u001b[0;34m(\u001b[0m\u001b[0;34m)\u001b[0m\u001b[0;34m\u001b[0m\u001b[0;34m\u001b[0m\u001b[0m\n\u001b[1;32m    339\u001b[0m         \u001b[0;32mif\u001b[0m \u001b[0mend\u001b[0m \u001b[0;34m!=\u001b[0m \u001b[0mlen\u001b[0m\u001b[0;34m(\u001b[0m\u001b[0ms\u001b[0m\u001b[0;34m)\u001b[0m\u001b[0;34m:\u001b[0m\u001b[0;34m\u001b[0m\u001b[0;34m\u001b[0m\u001b[0m\n\u001b[0;32m--> 340\u001b[0;31m             \u001b[0;32mraise\u001b[0m \u001b[0mJSONDecodeError\u001b[0m\u001b[0;34m(\u001b[0m\u001b[0;34m\"Extra data\"\u001b[0m\u001b[0;34m,\u001b[0m \u001b[0ms\u001b[0m\u001b[0;34m,\u001b[0m \u001b[0mend\u001b[0m\u001b[0;34m)\u001b[0m\u001b[0;34m\u001b[0m\u001b[0;34m\u001b[0m\u001b[0m\n\u001b[0m\u001b[1;32m    341\u001b[0m         \u001b[0;32mreturn\u001b[0m \u001b[0mobj\u001b[0m\u001b[0;34m\u001b[0m\u001b[0;34m\u001b[0m\u001b[0m\n\u001b[1;32m    342\u001b[0m \u001b[0;34m\u001b[0m\u001b[0m\n",
      "\u001b[0;31mJSONDecodeError\u001b[0m: Extra data: line 30942 column 2 (char 1813652)"
     ]
    }
   ],
   "source": [
    "with open(\"new_file.json\") as fh:\n",
    "    data=json.load(fh)\n",
    "    print(data)"
   ]
  },
  {
   "cell_type": "code",
   "execution_count": 25,
   "id": "fda7bbe3",
   "metadata": {},
   "outputs": [
    {
     "ename": "ValueError",
     "evalue": "Trailing data",
     "output_type": "error",
     "traceback": [
      "\u001b[0;31m---------------------------------------------------------------------------\u001b[0m",
      "\u001b[0;31mValueError\u001b[0m                                Traceback (most recent call last)",
      "\u001b[0;32m/var/folders/bm/200f7gzx2xsb4zds748rw_k40000gn/T/ipykernel_27235/2943605586.py\u001b[0m in \u001b[0;36m<module>\u001b[0;34m\u001b[0m\n\u001b[0;32m----> 1\u001b[0;31m \u001b[0mpatients_df\u001b[0m \u001b[0;34m=\u001b[0m \u001b[0mpd\u001b[0m\u001b[0;34m.\u001b[0m\u001b[0mread_json\u001b[0m\u001b[0;34m(\u001b[0m\u001b[0;34m'new_file.json'\u001b[0m\u001b[0;34m)\u001b[0m\u001b[0;34m\u001b[0m\u001b[0;34m\u001b[0m\u001b[0m\n\u001b[0m",
      "\u001b[0;32m~/opt/anaconda3/lib/python3.8/site-packages/pandas/util/_decorators.py\u001b[0m in \u001b[0;36mwrapper\u001b[0;34m(*args, **kwargs)\u001b[0m\n\u001b[1;32m    205\u001b[0m                 \u001b[0;32melse\u001b[0m\u001b[0;34m:\u001b[0m\u001b[0;34m\u001b[0m\u001b[0;34m\u001b[0m\u001b[0m\n\u001b[1;32m    206\u001b[0m                     \u001b[0mkwargs\u001b[0m\u001b[0;34m[\u001b[0m\u001b[0mnew_arg_name\u001b[0m\u001b[0;34m]\u001b[0m \u001b[0;34m=\u001b[0m \u001b[0mnew_arg_value\u001b[0m\u001b[0;34m\u001b[0m\u001b[0;34m\u001b[0m\u001b[0m\n\u001b[0;32m--> 207\u001b[0;31m             \u001b[0;32mreturn\u001b[0m \u001b[0mfunc\u001b[0m\u001b[0;34m(\u001b[0m\u001b[0;34m*\u001b[0m\u001b[0margs\u001b[0m\u001b[0;34m,\u001b[0m \u001b[0;34m**\u001b[0m\u001b[0mkwargs\u001b[0m\u001b[0;34m)\u001b[0m\u001b[0;34m\u001b[0m\u001b[0;34m\u001b[0m\u001b[0m\n\u001b[0m\u001b[1;32m    208\u001b[0m \u001b[0;34m\u001b[0m\u001b[0m\n\u001b[1;32m    209\u001b[0m         \u001b[0;32mreturn\u001b[0m \u001b[0mcast\u001b[0m\u001b[0;34m(\u001b[0m\u001b[0mF\u001b[0m\u001b[0;34m,\u001b[0m \u001b[0mwrapper\u001b[0m\u001b[0;34m)\u001b[0m\u001b[0;34m\u001b[0m\u001b[0;34m\u001b[0m\u001b[0m\n",
      "\u001b[0;32m~/opt/anaconda3/lib/python3.8/site-packages/pandas/util/_decorators.py\u001b[0m in \u001b[0;36mwrapper\u001b[0;34m(*args, **kwargs)\u001b[0m\n\u001b[1;32m    309\u001b[0m                     \u001b[0mstacklevel\u001b[0m\u001b[0;34m=\u001b[0m\u001b[0mstacklevel\u001b[0m\u001b[0;34m,\u001b[0m\u001b[0;34m\u001b[0m\u001b[0;34m\u001b[0m\u001b[0m\n\u001b[1;32m    310\u001b[0m                 )\n\u001b[0;32m--> 311\u001b[0;31m             \u001b[0;32mreturn\u001b[0m \u001b[0mfunc\u001b[0m\u001b[0;34m(\u001b[0m\u001b[0;34m*\u001b[0m\u001b[0margs\u001b[0m\u001b[0;34m,\u001b[0m \u001b[0;34m**\u001b[0m\u001b[0mkwargs\u001b[0m\u001b[0;34m)\u001b[0m\u001b[0;34m\u001b[0m\u001b[0;34m\u001b[0m\u001b[0m\n\u001b[0m\u001b[1;32m    312\u001b[0m \u001b[0;34m\u001b[0m\u001b[0m\n\u001b[1;32m    313\u001b[0m         \u001b[0;32mreturn\u001b[0m \u001b[0mwrapper\u001b[0m\u001b[0;34m\u001b[0m\u001b[0;34m\u001b[0m\u001b[0m\n",
      "\u001b[0;32m~/opt/anaconda3/lib/python3.8/site-packages/pandas/io/json/_json.py\u001b[0m in \u001b[0;36mread_json\u001b[0;34m(path_or_buf, orient, typ, dtype, convert_axes, convert_dates, keep_default_dates, numpy, precise_float, date_unit, encoding, encoding_errors, lines, chunksize, compression, nrows, storage_options)\u001b[0m\n\u001b[1;32m    612\u001b[0m \u001b[0;34m\u001b[0m\u001b[0m\n\u001b[1;32m    613\u001b[0m     \u001b[0;32mwith\u001b[0m \u001b[0mjson_reader\u001b[0m\u001b[0;34m:\u001b[0m\u001b[0;34m\u001b[0m\u001b[0;34m\u001b[0m\u001b[0m\n\u001b[0;32m--> 614\u001b[0;31m         \u001b[0;32mreturn\u001b[0m \u001b[0mjson_reader\u001b[0m\u001b[0;34m.\u001b[0m\u001b[0mread\u001b[0m\u001b[0;34m(\u001b[0m\u001b[0;34m)\u001b[0m\u001b[0;34m\u001b[0m\u001b[0;34m\u001b[0m\u001b[0m\n\u001b[0m\u001b[1;32m    615\u001b[0m \u001b[0;34m\u001b[0m\u001b[0m\n\u001b[1;32m    616\u001b[0m \u001b[0;34m\u001b[0m\u001b[0m\n",
      "\u001b[0;32m~/opt/anaconda3/lib/python3.8/site-packages/pandas/io/json/_json.py\u001b[0m in \u001b[0;36mread\u001b[0;34m(self)\u001b[0m\n\u001b[1;32m    746\u001b[0m                 \u001b[0mobj\u001b[0m \u001b[0;34m=\u001b[0m \u001b[0mself\u001b[0m\u001b[0;34m.\u001b[0m\u001b[0m_get_object_parser\u001b[0m\u001b[0;34m(\u001b[0m\u001b[0mself\u001b[0m\u001b[0;34m.\u001b[0m\u001b[0m_combine_lines\u001b[0m\u001b[0;34m(\u001b[0m\u001b[0mdata_lines\u001b[0m\u001b[0;34m)\u001b[0m\u001b[0;34m)\u001b[0m\u001b[0;34m\u001b[0m\u001b[0;34m\u001b[0m\u001b[0m\n\u001b[1;32m    747\u001b[0m         \u001b[0;32melse\u001b[0m\u001b[0;34m:\u001b[0m\u001b[0;34m\u001b[0m\u001b[0;34m\u001b[0m\u001b[0m\n\u001b[0;32m--> 748\u001b[0;31m             \u001b[0mobj\u001b[0m \u001b[0;34m=\u001b[0m \u001b[0mself\u001b[0m\u001b[0;34m.\u001b[0m\u001b[0m_get_object_parser\u001b[0m\u001b[0;34m(\u001b[0m\u001b[0mself\u001b[0m\u001b[0;34m.\u001b[0m\u001b[0mdata\u001b[0m\u001b[0;34m)\u001b[0m\u001b[0;34m\u001b[0m\u001b[0;34m\u001b[0m\u001b[0m\n\u001b[0m\u001b[1;32m    749\u001b[0m         \u001b[0mself\u001b[0m\u001b[0;34m.\u001b[0m\u001b[0mclose\u001b[0m\u001b[0;34m(\u001b[0m\u001b[0;34m)\u001b[0m\u001b[0;34m\u001b[0m\u001b[0;34m\u001b[0m\u001b[0m\n\u001b[1;32m    750\u001b[0m         \u001b[0;32mreturn\u001b[0m \u001b[0mobj\u001b[0m\u001b[0;34m\u001b[0m\u001b[0;34m\u001b[0m\u001b[0m\n",
      "\u001b[0;32m~/opt/anaconda3/lib/python3.8/site-packages/pandas/io/json/_json.py\u001b[0m in \u001b[0;36m_get_object_parser\u001b[0;34m(self, json)\u001b[0m\n\u001b[1;32m    768\u001b[0m         \u001b[0mobj\u001b[0m \u001b[0;34m=\u001b[0m \u001b[0;32mNone\u001b[0m\u001b[0;34m\u001b[0m\u001b[0;34m\u001b[0m\u001b[0m\n\u001b[1;32m    769\u001b[0m         \u001b[0;32mif\u001b[0m \u001b[0mtyp\u001b[0m \u001b[0;34m==\u001b[0m \u001b[0;34m\"frame\"\u001b[0m\u001b[0;34m:\u001b[0m\u001b[0;34m\u001b[0m\u001b[0;34m\u001b[0m\u001b[0m\n\u001b[0;32m--> 770\u001b[0;31m             \u001b[0mobj\u001b[0m \u001b[0;34m=\u001b[0m \u001b[0mFrameParser\u001b[0m\u001b[0;34m(\u001b[0m\u001b[0mjson\u001b[0m\u001b[0;34m,\u001b[0m \u001b[0;34m**\u001b[0m\u001b[0mkwargs\u001b[0m\u001b[0;34m)\u001b[0m\u001b[0;34m.\u001b[0m\u001b[0mparse\u001b[0m\u001b[0;34m(\u001b[0m\u001b[0;34m)\u001b[0m\u001b[0;34m\u001b[0m\u001b[0;34m\u001b[0m\u001b[0m\n\u001b[0m\u001b[1;32m    771\u001b[0m \u001b[0;34m\u001b[0m\u001b[0m\n\u001b[1;32m    772\u001b[0m         \u001b[0;32mif\u001b[0m \u001b[0mtyp\u001b[0m \u001b[0;34m==\u001b[0m \u001b[0;34m\"series\"\u001b[0m \u001b[0;32mor\u001b[0m \u001b[0mobj\u001b[0m \u001b[0;32mis\u001b[0m \u001b[0;32mNone\u001b[0m\u001b[0;34m:\u001b[0m\u001b[0;34m\u001b[0m\u001b[0;34m\u001b[0m\u001b[0m\n",
      "\u001b[0;32m~/opt/anaconda3/lib/python3.8/site-packages/pandas/io/json/_json.py\u001b[0m in \u001b[0;36mparse\u001b[0;34m(self)\u001b[0m\n\u001b[1;32m    883\u001b[0m \u001b[0;34m\u001b[0m\u001b[0m\n\u001b[1;32m    884\u001b[0m         \u001b[0;32melse\u001b[0m\u001b[0;34m:\u001b[0m\u001b[0;34m\u001b[0m\u001b[0;34m\u001b[0m\u001b[0m\n\u001b[0;32m--> 885\u001b[0;31m             \u001b[0mself\u001b[0m\u001b[0;34m.\u001b[0m\u001b[0m_parse_no_numpy\u001b[0m\u001b[0;34m(\u001b[0m\u001b[0;34m)\u001b[0m\u001b[0;34m\u001b[0m\u001b[0;34m\u001b[0m\u001b[0m\n\u001b[0m\u001b[1;32m    886\u001b[0m \u001b[0;34m\u001b[0m\u001b[0m\n\u001b[1;32m    887\u001b[0m         \u001b[0;32mif\u001b[0m \u001b[0mself\u001b[0m\u001b[0;34m.\u001b[0m\u001b[0mobj\u001b[0m \u001b[0;32mis\u001b[0m \u001b[0;32mNone\u001b[0m\u001b[0;34m:\u001b[0m\u001b[0;34m\u001b[0m\u001b[0;34m\u001b[0m\u001b[0m\n",
      "\u001b[0;32m~/opt/anaconda3/lib/python3.8/site-packages/pandas/io/json/_json.py\u001b[0m in \u001b[0;36m_parse_no_numpy\u001b[0;34m(self)\u001b[0m\n\u001b[1;32m   1138\u001b[0m         \u001b[0;32mif\u001b[0m \u001b[0morient\u001b[0m \u001b[0;34m==\u001b[0m \u001b[0;34m\"columns\"\u001b[0m\u001b[0;34m:\u001b[0m\u001b[0;34m\u001b[0m\u001b[0;34m\u001b[0m\u001b[0m\n\u001b[1;32m   1139\u001b[0m             self.obj = DataFrame(\n\u001b[0;32m-> 1140\u001b[0;31m                 \u001b[0mloads\u001b[0m\u001b[0;34m(\u001b[0m\u001b[0mjson\u001b[0m\u001b[0;34m,\u001b[0m \u001b[0mprecise_float\u001b[0m\u001b[0;34m=\u001b[0m\u001b[0mself\u001b[0m\u001b[0;34m.\u001b[0m\u001b[0mprecise_float\u001b[0m\u001b[0;34m)\u001b[0m\u001b[0;34m,\u001b[0m \u001b[0mdtype\u001b[0m\u001b[0;34m=\u001b[0m\u001b[0;32mNone\u001b[0m\u001b[0;34m\u001b[0m\u001b[0;34m\u001b[0m\u001b[0m\n\u001b[0m\u001b[1;32m   1141\u001b[0m             )\n\u001b[1;32m   1142\u001b[0m         \u001b[0;32melif\u001b[0m \u001b[0morient\u001b[0m \u001b[0;34m==\u001b[0m \u001b[0;34m\"split\"\u001b[0m\u001b[0;34m:\u001b[0m\u001b[0;34m\u001b[0m\u001b[0;34m\u001b[0m\u001b[0m\n",
      "\u001b[0;31mValueError\u001b[0m: Trailing data"
     ]
    }
   ],
   "source": [
    "patients_df = pd.read_json('new_file.json')"
   ]
  },
  {
   "cell_type": "code",
   "execution_count": 33,
   "id": "7e16f0ed",
   "metadata": {},
   "outputs": [
    {
     "ename": "ValueError",
     "evalue": "Some errors were detected !\n    Line #3 (got 22 columns instead of 21)\n    Line #4 (got 22 columns instead of 21)\n    Line #5 (got 22 columns instead of 21)\n    Line #6 (got 22 columns instead of 21)\n    Line #7 (got 22 columns instead of 21)\n    Line #8 (got 22 columns instead of 21)\n    Line #9 (got 22 columns instead of 21)\n    Line #10 (got 22 columns instead of 21)\n    Line #11 (got 22 columns instead of 21)\n    Line #13 (got 22 columns instead of 21)\n    Line #14 (got 22 columns instead of 21)\n    Line #15 (got 22 columns instead of 21)\n    Line #17 (got 22 columns instead of 21)\n    Line #18 (got 22 columns instead of 21)\n    Line #19 (got 22 columns instead of 21)\n    Line #20 (got 22 columns instead of 21)\n    Line #22 (got 22 columns instead of 21)\n    Line #24 (got 22 columns instead of 21)\n    Line #25 (got 22 columns instead of 21)\n    Line #26 (got 22 columns instead of 21)\n    Line #27 (got 22 columns instead of 21)\n    Line #28 (got 22 columns instead of 21)\n    Line #29 (got 22 columns instead of 21)\n    Line #30 (got 22 columns instead of 21)\n    Line #31 (got 22 columns instead of 21)\n    Line #32 (got 22 columns instead of 21)\n    Line #33 (got 22 columns instead of 21)\n    Line #37 (got 20 columns instead of 21)\n    Line #39 (got 22 columns instead of 21)\n    Line #44 (got 22 columns instead of 21)\n    Line #46 (got 18 columns instead of 21)\n    Line #47 (got 18 columns instead of 21)\n    Line #50 (got 23 columns instead of 21)\n    Line #51 (got 23 columns instead of 21)\n    Line #52 (got 24 columns instead of 21)\n    Line #53 (got 24 columns instead of 21)\n    Line #54 (got 24 columns instead of 21)\n    Line #55 (got 24 columns instead of 21)\n    Line #56 (got 24 columns instead of 21)\n    Line #58 (got 24 columns instead of 21)\n    Line #64 (got 20 columns instead of 21)\n    Line #70 (got 27 columns instead of 21)\n    Line #73 (got 23 columns instead of 21)\n    Line #75 (got 27 columns instead of 21)\n    Line #76 (got 23 columns instead of 21)\n    Line #78 (got 23 columns instead of 21)\n    Line #79 (got 27 columns instead of 21)\n    Line #80 (got 22 columns instead of 21)\n    Line #83 (got 22 columns instead of 21)\n    Line #84 (got 22 columns instead of 21)\n    Line #85 (got 22 columns instead of 21)\n    Line #86 (got 22 columns instead of 21)\n    Line #87 (got 22 columns instead of 21)\n    Line #88 (got 22 columns instead of 21)\n    Line #89 (got 22 columns instead of 21)\n    Line #90 (got 22 columns instead of 21)\n    Line #91 (got 22 columns instead of 21)\n    Line #92 (got 22 columns instead of 21)\n    Line #93 (got 22 columns instead of 21)\n    Line #94 (got 22 columns instead of 21)\n    Line #96 (got 22 columns instead of 21)\n    Line #97 (got 22 columns instead of 21)\n    Line #98 (got 22 columns instead of 21)\n    Line #99 (got 22 columns instead of 21)\n    Line #101 (got 18 columns instead of 21)\n    Line #102 (got 22 columns instead of 21)\n    Line #104 (got 22 columns instead of 21)\n    Line #105 (got 22 columns instead of 21)\n    Line #106 (got 22 columns instead of 21)\n    Line #107 (got 22 columns instead of 21)\n    Line #108 (got 22 columns instead of 21)\n    Line #109 (got 22 columns instead of 21)\n    Line #110 (got 22 columns instead of 21)\n    Line #111 (got 22 columns instead of 21)\n    Line #112 (got 22 columns instead of 21)\n    Line #113 (got 22 columns instead of 21)\n    Line #118 (got 20 columns instead of 21)\n    Line #120 (got 22 columns instead of 21)\n    Line #125 (got 22 columns instead of 21)\n    Line #127 (got 18 columns instead of 21)\n    Line #130 (got 23 columns instead of 21)\n    Line #131 (got 23 columns instead of 21)\n    Line #132 (got 24 columns instead of 21)\n    Line #133 (got 24 columns instead of 21)\n    Line #134 (got 24 columns instead of 21)\n    Line #135 (got 24 columns instead of 21)\n    Line #136 (got 24 columns instead of 21)\n    Line #138 (got 24 columns instead of 21)\n    Line #144 (got 20 columns instead of 21)\n    Line #150 (got 27 columns instead of 21)\n    Line #153 (got 23 columns instead of 21)\n    Line #155 (got 27 columns instead of 21)\n    Line #156 (got 23 columns instead of 21)\n    Line #158 (got 23 columns instead of 21)\n    Line #159 (got 27 columns instead of 21)\n    Line #162 (got 22 columns instead of 21)\n    Line #163 (got 22 columns instead of 21)\n    Line #164 (got 22 columns instead of 21)\n    Line #165 (got 22 columns instead of 21)\n    Line #166 (got 22 columns instead of 21)\n    Line #167 (got 22 columns instead of 21)\n    Line #168 (got 22 columns instead of 21)\n    Line #169 (got 22 columns instead of 21)\n    Line #170 (got 22 columns instead of 21)\n    Line #171 (got 22 columns instead of 21)\n    Line #172 (got 22 columns instead of 21)\n    Line #173 (got 22 columns instead of 21)\n    Line #175 (got 22 columns instead of 21)\n    Line #176 (got 22 columns instead of 21)\n    Line #177 (got 22 columns instead of 21)\n    Line #178 (got 22 columns instead of 21)\n    Line #180 (got 22 columns instead of 21)\n    Line #182 (got 22 columns instead of 21)\n    Line #183 (got 22 columns instead of 21)\n    Line #184 (got 22 columns instead of 21)\n    Line #185 (got 22 columns instead of 21)\n    Line #186 (got 22 columns instead of 21)\n    Line #187 (got 22 columns instead of 21)\n    Line #188 (got 22 columns instead of 21)\n    Line #189 (got 22 columns instead of 21)\n    Line #190 (got 22 columns instead of 21)\n    Line #191 (got 22 columns instead of 21)\n    Line #192 (got 22 columns instead of 21)\n    Line #197 (got 20 columns instead of 21)\n    Line #199 (got 22 columns instead of 21)\n    Line #205 (got 18 columns instead of 21)\n    Line #206 (got 18 columns instead of 21)\n    Line #209 (got 23 columns instead of 21)\n    Line #210 (got 23 columns instead of 21)\n    Line #211 (got 24 columns instead of 21)\n    Line #212 (got 24 columns instead of 21)\n    Line #213 (got 24 columns instead of 21)\n    Line #214 (got 24 columns instead of 21)\n    Line #215 (got 24 columns instead of 21)\n    Line #217 (got 24 columns instead of 21)\n    Line #223 (got 20 columns instead of 21)\n    Line #229 (got 27 columns instead of 21)\n    Line #232 (got 23 columns instead of 21)\n    Line #234 (got 27 columns instead of 21)\n    Line #235 (got 23 columns instead of 21)\n    Line #237 (got 23 columns instead of 21)\n    Line #238 (got 27 columns instead of 21)",
     "output_type": "error",
     "traceback": [
      "\u001b[0;31m---------------------------------------------------------------------------\u001b[0m",
      "\u001b[0;31mValueError\u001b[0m                                Traceback (most recent call last)",
      "\u001b[0;32m/var/folders/bm/200f7gzx2xsb4zds748rw_k40000gn/T/ipykernel_26091/1302449504.py\u001b[0m in \u001b[0;36m<module>\u001b[0;34m\u001b[0m\n\u001b[0;32m----> 1\u001b[0;31m \u001b[0mnumpy\u001b[0m\u001b[0;34m.\u001b[0m\u001b[0mgenfromtxt\u001b[0m\u001b[0;34m(\u001b[0m\u001b[0;34m\"psy-001_clickstream_export_snippet.txt\"\u001b[0m\u001b[0;34m,\u001b[0m\u001b[0mdtype\u001b[0m\u001b[0;34m=\u001b[0m\u001b[0;32mNone\u001b[0m\u001b[0;34m)\u001b[0m\u001b[0;34m\u001b[0m\u001b[0;34m\u001b[0m\u001b[0m\n\u001b[0m",
      "\u001b[0;32m~/opt/anaconda3/lib/python3.8/site-packages/numpy/lib/npyio.py\u001b[0m in \u001b[0;36mgenfromtxt\u001b[0;34m(fname, dtype, comments, delimiter, skip_header, skip_footer, converters, missing_values, filling_values, usecols, names, excludelist, deletechars, replace_space, autostrip, case_sensitive, defaultfmt, unpack, usemask, loose, invalid_raise, max_rows, encoding)\u001b[0m\n\u001b[1;32m   2078\u001b[0m             \u001b[0;31m# Raise an exception ?\u001b[0m\u001b[0;34m\u001b[0m\u001b[0;34m\u001b[0m\u001b[0;34m\u001b[0m\u001b[0m\n\u001b[1;32m   2079\u001b[0m             \u001b[0;32mif\u001b[0m \u001b[0minvalid_raise\u001b[0m\u001b[0;34m:\u001b[0m\u001b[0;34m\u001b[0m\u001b[0;34m\u001b[0m\u001b[0m\n\u001b[0;32m-> 2080\u001b[0;31m                 \u001b[0;32mraise\u001b[0m \u001b[0mValueError\u001b[0m\u001b[0;34m(\u001b[0m\u001b[0merrmsg\u001b[0m\u001b[0;34m)\u001b[0m\u001b[0;34m\u001b[0m\u001b[0;34m\u001b[0m\u001b[0m\n\u001b[0m\u001b[1;32m   2081\u001b[0m             \u001b[0;31m# Issue a warning ?\u001b[0m\u001b[0;34m\u001b[0m\u001b[0;34m\u001b[0m\u001b[0;34m\u001b[0m\u001b[0m\n\u001b[1;32m   2082\u001b[0m             \u001b[0;32melse\u001b[0m\u001b[0;34m:\u001b[0m\u001b[0;34m\u001b[0m\u001b[0;34m\u001b[0m\u001b[0m\n",
      "\u001b[0;31mValueError\u001b[0m: Some errors were detected !\n    Line #3 (got 22 columns instead of 21)\n    Line #4 (got 22 columns instead of 21)\n    Line #5 (got 22 columns instead of 21)\n    Line #6 (got 22 columns instead of 21)\n    Line #7 (got 22 columns instead of 21)\n    Line #8 (got 22 columns instead of 21)\n    Line #9 (got 22 columns instead of 21)\n    Line #10 (got 22 columns instead of 21)\n    Line #11 (got 22 columns instead of 21)\n    Line #13 (got 22 columns instead of 21)\n    Line #14 (got 22 columns instead of 21)\n    Line #15 (got 22 columns instead of 21)\n    Line #17 (got 22 columns instead of 21)\n    Line #18 (got 22 columns instead of 21)\n    Line #19 (got 22 columns instead of 21)\n    Line #20 (got 22 columns instead of 21)\n    Line #22 (got 22 columns instead of 21)\n    Line #24 (got 22 columns instead of 21)\n    Line #25 (got 22 columns instead of 21)\n    Line #26 (got 22 columns instead of 21)\n    Line #27 (got 22 columns instead of 21)\n    Line #28 (got 22 columns instead of 21)\n    Line #29 (got 22 columns instead of 21)\n    Line #30 (got 22 columns instead of 21)\n    Line #31 (got 22 columns instead of 21)\n    Line #32 (got 22 columns instead of 21)\n    Line #33 (got 22 columns instead of 21)\n    Line #37 (got 20 columns instead of 21)\n    Line #39 (got 22 columns instead of 21)\n    Line #44 (got 22 columns instead of 21)\n    Line #46 (got 18 columns instead of 21)\n    Line #47 (got 18 columns instead of 21)\n    Line #50 (got 23 columns instead of 21)\n    Line #51 (got 23 columns instead of 21)\n    Line #52 (got 24 columns instead of 21)\n    Line #53 (got 24 columns instead of 21)\n    Line #54 (got 24 columns instead of 21)\n    Line #55 (got 24 columns instead of 21)\n    Line #56 (got 24 columns instead of 21)\n    Line #58 (got 24 columns instead of 21)\n    Line #64 (got 20 columns instead of 21)\n    Line #70 (got 27 columns instead of 21)\n    Line #73 (got 23 columns instead of 21)\n    Line #75 (got 27 columns instead of 21)\n    Line #76 (got 23 columns instead of 21)\n    Line #78 (got 23 columns instead of 21)\n    Line #79 (got 27 columns instead of 21)\n    Line #80 (got 22 columns instead of 21)\n    Line #83 (got 22 columns instead of 21)\n    Line #84 (got 22 columns instead of 21)\n    Line #85 (got 22 columns instead of 21)\n    Line #86 (got 22 columns instead of 21)\n    Line #87 (got 22 columns instead of 21)\n    Line #88 (got 22 columns instead of 21)\n    Line #89 (got 22 columns instead of 21)\n    Line #90 (got 22 columns instead of 21)\n    Line #91 (got 22 columns instead of 21)\n    Line #92 (got 22 columns instead of 21)\n    Line #93 (got 22 columns instead of 21)\n    Line #94 (got 22 columns instead of 21)\n    Line #96 (got 22 columns instead of 21)\n    Line #97 (got 22 columns instead of 21)\n    Line #98 (got 22 columns instead of 21)\n    Line #99 (got 22 columns instead of 21)\n    Line #101 (got 18 columns instead of 21)\n    Line #102 (got 22 columns instead of 21)\n    Line #104 (got 22 columns instead of 21)\n    Line #105 (got 22 columns instead of 21)\n    Line #106 (got 22 columns instead of 21)\n    Line #107 (got 22 columns instead of 21)\n    Line #108 (got 22 columns instead of 21)\n    Line #109 (got 22 columns instead of 21)\n    Line #110 (got 22 columns instead of 21)\n    Line #111 (got 22 columns instead of 21)\n    Line #112 (got 22 columns instead of 21)\n    Line #113 (got 22 columns instead of 21)\n    Line #118 (got 20 columns instead of 21)\n    Line #120 (got 22 columns instead of 21)\n    Line #125 (got 22 columns instead of 21)\n    Line #127 (got 18 columns instead of 21)\n    Line #130 (got 23 columns instead of 21)\n    Line #131 (got 23 columns instead of 21)\n    Line #132 (got 24 columns instead of 21)\n    Line #133 (got 24 columns instead of 21)\n    Line #134 (got 24 columns instead of 21)\n    Line #135 (got 24 columns instead of 21)\n    Line #136 (got 24 columns instead of 21)\n    Line #138 (got 24 columns instead of 21)\n    Line #144 (got 20 columns instead of 21)\n    Line #150 (got 27 columns instead of 21)\n    Line #153 (got 23 columns instead of 21)\n    Line #155 (got 27 columns instead of 21)\n    Line #156 (got 23 columns instead of 21)\n    Line #158 (got 23 columns instead of 21)\n    Line #159 (got 27 columns instead of 21)\n    Line #162 (got 22 columns instead of 21)\n    Line #163 (got 22 columns instead of 21)\n    Line #164 (got 22 columns instead of 21)\n    Line #165 (got 22 columns instead of 21)\n    Line #166 (got 22 columns instead of 21)\n    Line #167 (got 22 columns instead of 21)\n    Line #168 (got 22 columns instead of 21)\n    Line #169 (got 22 columns instead of 21)\n    Line #170 (got 22 columns instead of 21)\n    Line #171 (got 22 columns instead of 21)\n    Line #172 (got 22 columns instead of 21)\n    Line #173 (got 22 columns instead of 21)\n    Line #175 (got 22 columns instead of 21)\n    Line #176 (got 22 columns instead of 21)\n    Line #177 (got 22 columns instead of 21)\n    Line #178 (got 22 columns instead of 21)\n    Line #180 (got 22 columns instead of 21)\n    Line #182 (got 22 columns instead of 21)\n    Line #183 (got 22 columns instead of 21)\n    Line #184 (got 22 columns instead of 21)\n    Line #185 (got 22 columns instead of 21)\n    Line #186 (got 22 columns instead of 21)\n    Line #187 (got 22 columns instead of 21)\n    Line #188 (got 22 columns instead of 21)\n    Line #189 (got 22 columns instead of 21)\n    Line #190 (got 22 columns instead of 21)\n    Line #191 (got 22 columns instead of 21)\n    Line #192 (got 22 columns instead of 21)\n    Line #197 (got 20 columns instead of 21)\n    Line #199 (got 22 columns instead of 21)\n    Line #205 (got 18 columns instead of 21)\n    Line #206 (got 18 columns instead of 21)\n    Line #209 (got 23 columns instead of 21)\n    Line #210 (got 23 columns instead of 21)\n    Line #211 (got 24 columns instead of 21)\n    Line #212 (got 24 columns instead of 21)\n    Line #213 (got 24 columns instead of 21)\n    Line #214 (got 24 columns instead of 21)\n    Line #215 (got 24 columns instead of 21)\n    Line #217 (got 24 columns instead of 21)\n    Line #223 (got 20 columns instead of 21)\n    Line #229 (got 27 columns instead of 21)\n    Line #232 (got 23 columns instead of 21)\n    Line #234 (got 27 columns instead of 21)\n    Line #235 (got 23 columns instead of 21)\n    Line #237 (got 23 columns instead of 21)\n    Line #238 (got 27 columns instead of 21)"
     ]
    }
   ],
   "source": [
    "numpy.genfromtxt(\"psy-001_clickstream_export_snippet.txt\",dtype=None)"
   ]
  }
 ],
 "metadata": {
  "kernelspec": {
   "display_name": "Python 3.8.10 64-bit ('base': conda)",
   "language": "python",
   "name": "python3810jvsc74a57bd00f27644e24ce09efd042f4cc0bfb48a693fa1e5f9daaa88977834e20c2de3f7b"
  },
  "language_info": {
   "codemirror_mode": {
    "name": "ipython",
    "version": 3
   },
   "file_extension": ".py",
   "mimetype": "text/x-python",
   "name": "python",
   "nbconvert_exporter": "python",
   "pygments_lexer": "ipython3",
   "version": "3.8.10"
  }
 },
 "nbformat": 4,
 "nbformat_minor": 5
}
